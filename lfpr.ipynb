{
 "cells": [
  {
   "cell_type": "code",
   "execution_count": 1,
   "id": "470dc3c1-bd5f-427f-aac9-826b7741d8a7",
   "metadata": {},
   "outputs": [],
   "source": [
    "import pandas as pd\n",
    "from statsmodels.formula.api import logit\n",
    "import matplotlib.pyplot as plt\n",
    "import seaborn as sns"
   ]
  },
  {
   "cell_type": "code",
   "execution_count": 2,
   "id": "da50aa40-eed3-494e-814a-a2156677c199",
   "metadata": {},
   "outputs": [
    {
     "data": {
      "text/html": [
       "<div>\n",
       "<style scoped>\n",
       "    .dataframe tbody tr th:only-of-type {\n",
       "        vertical-align: middle;\n",
       "    }\n",
       "\n",
       "    .dataframe tbody tr th {\n",
       "        vertical-align: top;\n",
       "    }\n",
       "\n",
       "    .dataframe thead th {\n",
       "        text-align: right;\n",
       "    }\n",
       "</style>\n",
       "<table border=\"1\" class=\"dataframe\">\n",
       "  <thead>\n",
       "    <tr style=\"text-align: right;\">\n",
       "      <th></th>\n",
       "      <th>State_name</th>\n",
       "      <th>Sector</th>\n",
       "      <th>Sex</th>\n",
       "      <th>Age</th>\n",
       "      <th>Marital_Status</th>\n",
       "      <th>Year_Edu</th>\n",
       "      <th>LFPR</th>\n",
       "    </tr>\n",
       "  </thead>\n",
       "  <tbody>\n",
       "    <tr>\n",
       "      <th>0</th>\n",
       "      <td>Kerala</td>\n",
       "      <td>1</td>\n",
       "      <td>1</td>\n",
       "      <td>66</td>\n",
       "      <td>2</td>\n",
       "      <td>20</td>\n",
       "      <td>1</td>\n",
       "    </tr>\n",
       "    <tr>\n",
       "      <th>1</th>\n",
       "      <td>Kerala</td>\n",
       "      <td>1</td>\n",
       "      <td>2</td>\n",
       "      <td>62</td>\n",
       "      <td>2</td>\n",
       "      <td>15</td>\n",
       "      <td>0</td>\n",
       "    </tr>\n",
       "    <tr>\n",
       "      <th>2</th>\n",
       "      <td>Kerala</td>\n",
       "      <td>1</td>\n",
       "      <td>2</td>\n",
       "      <td>65</td>\n",
       "      <td>3</td>\n",
       "      <td>0</td>\n",
       "      <td>0</td>\n",
       "    </tr>\n",
       "    <tr>\n",
       "      <th>3</th>\n",
       "      <td>Kerala</td>\n",
       "      <td>1</td>\n",
       "      <td>2</td>\n",
       "      <td>63</td>\n",
       "      <td>3</td>\n",
       "      <td>5</td>\n",
       "      <td>0</td>\n",
       "    </tr>\n",
       "    <tr>\n",
       "      <th>4</th>\n",
       "      <td>Kerala</td>\n",
       "      <td>1</td>\n",
       "      <td>1</td>\n",
       "      <td>36</td>\n",
       "      <td>2</td>\n",
       "      <td>10</td>\n",
       "      <td>1</td>\n",
       "    </tr>\n",
       "    <tr>\n",
       "      <th>...</th>\n",
       "      <td>...</td>\n",
       "      <td>...</td>\n",
       "      <td>...</td>\n",
       "      <td>...</td>\n",
       "      <td>...</td>\n",
       "      <td>...</td>\n",
       "      <td>...</td>\n",
       "    </tr>\n",
       "    <tr>\n",
       "      <th>15578</th>\n",
       "      <td>Kerala</td>\n",
       "      <td>2</td>\n",
       "      <td>1</td>\n",
       "      <td>87</td>\n",
       "      <td>3</td>\n",
       "      <td>0</td>\n",
       "      <td>0</td>\n",
       "    </tr>\n",
       "    <tr>\n",
       "      <th>15579</th>\n",
       "      <td>Kerala</td>\n",
       "      <td>2</td>\n",
       "      <td>1</td>\n",
       "      <td>43</td>\n",
       "      <td>3</td>\n",
       "      <td>7</td>\n",
       "      <td>1</td>\n",
       "    </tr>\n",
       "    <tr>\n",
       "      <th>15580</th>\n",
       "      <td>Kerala</td>\n",
       "      <td>2</td>\n",
       "      <td>1</td>\n",
       "      <td>16</td>\n",
       "      <td>1</td>\n",
       "      <td>10</td>\n",
       "      <td>0</td>\n",
       "    </tr>\n",
       "    <tr>\n",
       "      <th>15581</th>\n",
       "      <td>Kerala</td>\n",
       "      <td>2</td>\n",
       "      <td>2</td>\n",
       "      <td>14</td>\n",
       "      <td>1</td>\n",
       "      <td>9</td>\n",
       "      <td>0</td>\n",
       "    </tr>\n",
       "    <tr>\n",
       "      <th>15582</th>\n",
       "      <td>Kerala</td>\n",
       "      <td>2</td>\n",
       "      <td>1</td>\n",
       "      <td>74</td>\n",
       "      <td>2</td>\n",
       "      <td>10</td>\n",
       "      <td>1</td>\n",
       "    </tr>\n",
       "  </tbody>\n",
       "</table>\n",
       "<p>15583 rows × 7 columns</p>\n",
       "</div>"
      ],
      "text/plain": [
       "      State_name  Sector  Sex  Age  Marital_Status  Year_Edu  LFPR\n",
       "0         Kerala       1    1   66               2        20     1\n",
       "1         Kerala       1    2   62               2        15     0\n",
       "2         Kerala       1    2   65               3         0     0\n",
       "3         Kerala       1    2   63               3         5     0\n",
       "4         Kerala       1    1   36               2        10     1\n",
       "...          ...     ...  ...  ...             ...       ...   ...\n",
       "15578     Kerala       2    1   87               3         0     0\n",
       "15579     Kerala       2    1   43               3         7     1\n",
       "15580     Kerala       2    1   16               1        10     0\n",
       "15581     Kerala       2    2   14               1         9     0\n",
       "15582     Kerala       2    1   74               2        10     1\n",
       "\n",
       "[15583 rows x 7 columns]"
      ]
     },
     "execution_count": 2,
     "metadata": {},
     "output_type": "execute_result"
    }
   ],
   "source": [
    "kerala = pd.read_excel(r\"C:\\Users\\Rushikesh\\Desktop\\LFPR\\data.xlsx\")\n",
    "kerala"
   ]
  },
  {
   "cell_type": "code",
   "execution_count": 3,
   "id": "069510ad-486a-4ca3-9f0a-69b14905913d",
   "metadata": {},
   "outputs": [
    {
     "name": "stdout",
     "output_type": "stream",
     "text": [
      "<class 'pandas.core.frame.DataFrame'>\n",
      "RangeIndex: 15583 entries, 0 to 15582\n",
      "Data columns (total 7 columns):\n",
      " #   Column          Non-Null Count  Dtype \n",
      "---  ------          --------------  ----- \n",
      " 0   State_name      15583 non-null  object\n",
      " 1   Sector          15583 non-null  int64 \n",
      " 2   Sex             15583 non-null  int64 \n",
      " 3   Age             15583 non-null  int64 \n",
      " 4   Marital_Status  15583 non-null  int64 \n",
      " 5   Year_Edu        15583 non-null  int64 \n",
      " 6   LFPR            15583 non-null  int64 \n",
      "dtypes: int64(6), object(1)\n",
      "memory usage: 852.3+ KB\n"
     ]
    }
   ],
   "source": [
    "kerala.info()"
   ]
  },
  {
   "cell_type": "code",
   "execution_count": 4,
   "id": "95b2844d-f232-4374-a51c-f8e6a823d3c0",
   "metadata": {},
   "outputs": [
    {
     "data": {
      "text/plain": [
       "(15583, 7)"
      ]
     },
     "execution_count": 4,
     "metadata": {},
     "output_type": "execute_result"
    }
   ],
   "source": [
    "kerala.shape"
   ]
  },
  {
   "cell_type": "code",
   "execution_count": 5,
   "id": "f6346268-42c0-46bd-a46d-424eb999af47",
   "metadata": {},
   "outputs": [
    {
     "data": {
      "text/plain": [
       "State_name        False\n",
       "Sector            False\n",
       "Sex               False\n",
       "Age               False\n",
       "Marital_Status    False\n",
       "Year_Edu          False\n",
       "LFPR              False\n",
       "dtype: bool"
      ]
     },
     "execution_count": 5,
     "metadata": {},
     "output_type": "execute_result"
    }
   ],
   "source": [
    "kerala.isna().any()"
   ]
  },
  {
   "cell_type": "code",
   "execution_count": 6,
   "id": "880bb51e-17e3-4e68-9c8a-68451c363f57",
   "metadata": {},
   "outputs": [],
   "source": [
    "kerala['Sector'] = kerala['Sector'].replace({1:0, 2:1})\n",
    "kerala['Sex'] = kerala['Sex'].replace({1:0, 2:1})\n",
    "kerala['Marital_Status'] = kerala['Marital_Status'].replace({1:0, 2:1})"
   ]
  },
  {
   "cell_type": "code",
   "execution_count": 7,
   "id": "7fe7543e-d114-4d8c-af63-099e98bf8d86",
   "metadata": {},
   "outputs": [],
   "source": [
    "kerala = kerala.drop(kerala[kerala['Sex'] == 3].index)\n",
    "kerala = kerala.drop(kerala[kerala['Marital_Status'] == 3].index)\n",
    "kerala = kerala.drop(kerala[kerala['Marital_Status'] == 4].index)"
   ]
  },
  {
   "cell_type": "code",
   "execution_count": 8,
   "id": "c79f736c-e827-46bd-b7a9-b5bda89389bf",
   "metadata": {},
   "outputs": [
    {
     "data": {
      "text/html": [
       "<div>\n",
       "<style scoped>\n",
       "    .dataframe tbody tr th:only-of-type {\n",
       "        vertical-align: middle;\n",
       "    }\n",
       "\n",
       "    .dataframe tbody tr th {\n",
       "        vertical-align: top;\n",
       "    }\n",
       "\n",
       "    .dataframe thead th {\n",
       "        text-align: right;\n",
       "    }\n",
       "</style>\n",
       "<table border=\"1\" class=\"dataframe\">\n",
       "  <thead>\n",
       "    <tr style=\"text-align: right;\">\n",
       "      <th></th>\n",
       "      <th>Age</th>\n",
       "      <th>Year_Edu</th>\n",
       "    </tr>\n",
       "  </thead>\n",
       "  <tbody>\n",
       "    <tr>\n",
       "      <th>count</th>\n",
       "      <td>14028.000000</td>\n",
       "      <td>14028.000000</td>\n",
       "    </tr>\n",
       "    <tr>\n",
       "      <th>mean</th>\n",
       "      <td>35.337753</td>\n",
       "      <td>8.875463</td>\n",
       "    </tr>\n",
       "    <tr>\n",
       "      <th>std</th>\n",
       "      <td>21.279688</td>\n",
       "      <td>4.982478</td>\n",
       "    </tr>\n",
       "    <tr>\n",
       "      <th>min</th>\n",
       "      <td>0.000000</td>\n",
       "      <td>0.000000</td>\n",
       "    </tr>\n",
       "    <tr>\n",
       "      <th>25%</th>\n",
       "      <td>16.000000</td>\n",
       "      <td>5.000000</td>\n",
       "    </tr>\n",
       "    <tr>\n",
       "      <th>50%</th>\n",
       "      <td>35.000000</td>\n",
       "      <td>10.000000</td>\n",
       "    </tr>\n",
       "    <tr>\n",
       "      <th>75%</th>\n",
       "      <td>52.000000</td>\n",
       "      <td>12.000000</td>\n",
       "    </tr>\n",
       "    <tr>\n",
       "      <th>max</th>\n",
       "      <td>95.000000</td>\n",
       "      <td>25.000000</td>\n",
       "    </tr>\n",
       "  </tbody>\n",
       "</table>\n",
       "</div>"
      ],
      "text/plain": [
       "                Age      Year_Edu\n",
       "count  14028.000000  14028.000000\n",
       "mean      35.337753      8.875463\n",
       "std       21.279688      4.982478\n",
       "min        0.000000      0.000000\n",
       "25%       16.000000      5.000000\n",
       "50%       35.000000     10.000000\n",
       "75%       52.000000     12.000000\n",
       "max       95.000000     25.000000"
      ]
     },
     "execution_count": 8,
     "metadata": {},
     "output_type": "execute_result"
    }
   ],
   "source": [
    "kerala[['Age','Year_Edu']].describe()"
   ]
  },
  {
   "cell_type": "code",
   "execution_count": 9,
   "id": "08e7d1f8-5afc-4caf-958d-b17e70f6702a",
   "metadata": {},
   "outputs": [
    {
     "data": {
      "image/png": "[encoded data removed]",
      "text/plain": [
       "<Figure size 640x480 with 1 Axes>"
      ]
     },
     "metadata": {},
     "output_type": "display_data"
    }
   ],
   "source": [
    "sns.boxplot(y='Age', data= kerala)\n",
    "plt.show()"
   ]
  },
  {
   "cell_type": "code",
   "execution_count": 10,
   "id": "11317eec-9e6e-4825-a54b-2609d142073b",
   "metadata": {},
   "outputs": [
    {
     "data": {
      "image/png": "[encoded data removed]",
      "text/plain": [
       "<Figure size 640x480 with 1 Axes>"
      ]
     },
     "metadata": {},
     "output_type": "display_data"
    }
   ],
   "source": [
    "sns.boxplot(y='Year_Edu', data= kerala)\n",
    "plt.show()"
   ]
  },
  {
   "cell_type": "code",
   "execution_count": 11,
   "id": "563977c7-3d02-4814-96d1-93b5cd3980ec",
   "metadata": {},
   "outputs": [
    {
     "data": {
      "text/plain": [
       "LFPR\n",
       "0    0.546906\n",
       "1    0.453094\n",
       "Name: proportion, dtype: float64"
      ]
     },
     "execution_count": 11,
     "metadata": {},
     "output_type": "execute_result"
    }
   ],
   "source": [
    "kerala['LFPR'].value_counts(normalize=True)"
   ]
  },
  {
   "cell_type": "code",
   "execution_count": 12,
   "id": "5a3904af-f0df-4159-a577-7a29f6199950",
   "metadata": {},
   "outputs": [
    {
     "data": {
      "image/png": "[encoded data removed]",
      "text/plain": [
       "<Figure size 640x480 with 1 Axes>"
      ]
     },
     "metadata": {},
     "output_type": "display_data"
    }
   ],
   "source": [
    "sns.countplot(x='Sector', data=kerala)\n",
    "plt.show()"
   ]
  },
  {
   "cell_type": "code",
   "execution_count": 13,
   "id": "c198b9b4-20b0-4c9a-9771-886fbd716245",
   "metadata": {},
   "outputs": [
    {
     "data": {
      "image/png": "[encoded data removed]",
      "text/plain": [
       "<Figure size 640x480 with 1 Axes>"
      ]
     },
     "metadata": {},
     "output_type": "display_data"
    }
   ],
   "source": [
    "sns.countplot(x='Sex', data=kerala)\n",
    "plt.show()"
   ]
  },
  {
   "cell_type": "code",
   "execution_count": 14,
   "id": "44a479c5-0197-477b-be5b-e94e04695bb5",
   "metadata": {},
   "outputs": [
    {
     "data": {
      "image/png": "[encoded data removed]",
      "text/plain": [
       "<Figure size 640x480 with 1 Axes>"
      ]
     },
     "metadata": {},
     "output_type": "display_data"
    }
   ],
   "source": [
    "sns.countplot(x='Marital_Status', data=kerala)\n",
    "plt.show()"
   ]
  },
  {
   "cell_type": "code",
   "execution_count": 15,
   "id": "d3bec8f1-d06f-487f-acb3-98d093e1ca28",
   "metadata": {},
   "outputs": [
    {
     "data": {
      "image/png": "[encoded data removed]",
      "text/plain": [
       "<Figure size 640x480 with 1 Axes>"
      ]
     },
     "metadata": {},
     "output_type": "display_data"
    }
   ],
   "source": [
    "sns.histplot(x='Age', data = kerala)\n",
    "plt.show()"
   ]
  },
  {
   "cell_type": "code",
   "execution_count": 16,
   "id": "2b5e674a-08d2-4ef3-a2aa-8c327507e819",
   "metadata": {},
   "outputs": [
    {
     "data": {
      "image/png": "[encoded data removed]",
      "text/plain": [
       "<Figure size 640x480 with 1 Axes>"
      ]
     },
     "metadata": {},
     "output_type": "display_data"
    }
   ],
   "source": [
    "sns.histplot(x='Year_Edu', data = kerala, binwidth = 1)\n",
    "plt.show()"
   ]
  },
  {
   "cell_type": "code",
   "execution_count": 17,
   "id": "4d22d8f9-c04f-4356-9e85-61204373b60f",
   "metadata": {},
   "outputs": [
    {
     "data": {
      "image/png": "[encoded data removed]",
      "text/plain": [
       "<Figure size 640x480 with 2 Axes>"
      ]
     },
     "metadata": {},
     "output_type": "display_data"
    }
   ],
   "source": [
    "sns.heatmap(kerala[['Sector','Sex','Age','Marital_Status','Year_Edu']].corr(),annot=True)\n",
    "plt.show()"
   ]
  },
  {
   "cell_type": "code",
   "execution_count": 18,
   "id": "8bfd21f7-e49f-4f36-b34f-6d03449ee474",
   "metadata": {},
   "outputs": [
    {
     "name": "stdout",
     "output_type": "stream",
     "text": [
      "Sex\n",
      "0    0.583050\n",
      "1    0.321572\n",
      "Name: LFPR, dtype: float64\n",
      "Sector\n",
      "0    0.458405\n",
      "1    0.448690\n",
      "Name: LFPR, dtype: float64\n",
      "Marital_Status\n",
      "0    0.208071\n",
      "1    0.621989\n",
      "Name: LFPR, dtype: float64\n"
     ]
    }
   ],
   "source": [
    "male_vs_female = kerala.groupby('Sex')['LFPR'].mean()\n",
    "rural_vs_urban = kerala.groupby('Sector')['LFPR'].mean()\n",
    "unmarried_vs_married = kerala.groupby('Marital_Status')['LFPR'].mean()\n",
    "print(male_vs_female)\n",
    "print(rural_vs_urban)\n",
    "print(unmarried_vs_married)"
   ]
  },
  {
   "cell_type": "code",
   "execution_count": 19,
   "id": "6e987412-3600-4405-9682-01cae14a2929",
   "metadata": {},
   "outputs": [
    {
     "data": {
      "text/html": [
       "<div>\n",
       "<style scoped>\n",
       "    .dataframe tbody tr th:only-of-type {\n",
       "        vertical-align: middle;\n",
       "    }\n",
       "\n",
       "    .dataframe tbody tr th {\n",
       "        vertical-align: top;\n",
       "    }\n",
       "\n",
       "    .dataframe thead th {\n",
       "        text-align: right;\n",
       "    }\n",
       "</style>\n",
       "<table border=\"1\" class=\"dataframe\">\n",
       "  <thead>\n",
       "    <tr style=\"text-align: right;\">\n",
       "      <th>Sector</th>\n",
       "      <th>0</th>\n",
       "      <th>1</th>\n",
       "    </tr>\n",
       "    <tr>\n",
       "      <th>Sex</th>\n",
       "      <th></th>\n",
       "      <th></th>\n",
       "    </tr>\n",
       "  </thead>\n",
       "  <tbody>\n",
       "    <tr>\n",
       "      <th>0</th>\n",
       "      <td>0.580143</td>\n",
       "      <td>0.585480</td>\n",
       "    </tr>\n",
       "    <tr>\n",
       "      <th>1</th>\n",
       "      <td>0.334075</td>\n",
       "      <td>0.311291</td>\n",
       "    </tr>\n",
       "  </tbody>\n",
       "</table>\n",
       "</div>"
      ],
      "text/plain": [
       "Sector         0         1\n",
       "Sex                       \n",
       "0       0.580143  0.585480\n",
       "1       0.334075  0.311291"
      ]
     },
     "execution_count": 19,
     "metadata": {},
     "output_type": "execute_result"
    }
   ],
   "source": [
    "interxn = pd.crosstab(kerala['Sex'],kerala['Sector'],values=kerala['LFPR'],aggfunc='mean')\n",
    "interxn"
   ]
  },
  {
   "cell_type": "code",
   "execution_count": 20,
   "id": "ade953b5-1d8b-4f57-b874-140c03964614",
   "metadata": {},
   "outputs": [
    {
     "name": "stdout",
     "output_type": "stream",
     "text": [
      "Optimization terminated successfully.\n",
      "         Current function value: 0.486162\n",
      "         Iterations 7\n",
      "Intercept        -2.482914\n",
      "Sector           -0.291629\n",
      "Sex              -1.907947\n",
      "Age               0.012710\n",
      "Marital_Status    1.759073\n",
      "Year_Edu          0.189024\n",
      "dtype: float64\n"
     ]
    }
   ],
   "source": [
    "model = logit('LFPR ~ Sector + Sex + Age + Marital_Status + Year_Edu', data = kerala).fit()\n",
    "print(model.params)"
   ]
  },
  {
   "cell_type": "code",
   "execution_count": 21,
   "id": "f2183571-1a29-4171-878f-b81f4e5c1ca3",
   "metadata": {},
   "outputs": [
    {
     "name": "stdout",
     "output_type": "stream",
     "text": [
      "                           Logit Regression Results                           \n",
      "==============================================================================\n",
      "Dep. Variable:                   LFPR   No. Observations:                14028\n",
      "Model:                          Logit   Df Residuals:                    14022\n",
      "Method:                           MLE   Df Model:                            5\n",
      "Date:                Sun, 31 Aug 2025   Pseudo R-squ.:                  0.2941\n",
      "Time:                        13:18:55   Log-Likelihood:                -6819.9\n",
      "converged:                       True   LL-Null:                       -9661.6\n",
      "Covariance Type:            nonrobust   LLR p-value:                     0.000\n",
      "==================================================================================\n",
      "                     coef    std err          z      P>|z|      [0.025      0.975]\n",
      "----------------------------------------------------------------------------------\n",
      "Intercept         -2.4829      0.078    -32.020      0.000      -2.635      -2.331\n",
      "Sector            -0.2916      0.043     -6.822      0.000      -0.375      -0.208\n",
      "Sex               -1.9079      0.049    -38.804      0.000      -2.004      -1.812\n",
      "Age                0.0127      0.002      7.754      0.000       0.009       0.016\n",
      "Marital_Status     1.7591      0.071     24.805      0.000       1.620       1.898\n",
      "Year_Edu           0.1890      0.005     35.279      0.000       0.179       0.200\n",
      "==================================================================================\n"
     ]
    }
   ],
   "source": [
    "print(model.summary())"
   ]
  },
  {
   "cell_type": "code",
   "execution_count": 22,
   "id": "fa19c117-97f1-42da-b315-4b8ce2c42b13",
   "metadata": {},
   "outputs": [
    {
     "name": "stdout",
     "output_type": "stream",
     "text": [
      "Optimization terminated successfully.\n",
      "         Current function value: 0.483310\n",
      "         Iterations 7\n",
      "Intercept        -2.840198\n",
      "Sector           -0.283605\n",
      "Sex              -1.003320\n",
      "Year_Edu          0.233169\n",
      "Sex:Year_Edu     -0.095416\n",
      "Age               0.009450\n",
      "Marital_Status    1.928549\n",
      "dtype: float64\n"
     ]
    }
   ],
   "source": [
    "model2 = logit('LFPR ~ Sector + Sex * Year_Edu + Age + Marital_Status', data = kerala).fit()\n",
    "print(model2.params)"
   ]
  },
  {
   "cell_type": "code",
   "execution_count": 25,
   "id": "cd1c379c-de1c-4d95-88ac-c7caf2d0fca8",
   "metadata": {},
   "outputs": [
    {
     "data": {
      "text/html": [
       "<div>\n",
       "<style scoped>\n",
       "    .dataframe tbody tr th:only-of-type {\n",
       "        vertical-align: middle;\n",
       "    }\n",
       "\n",
       "    .dataframe tbody tr th {\n",
       "        vertical-align: top;\n",
       "    }\n",
       "\n",
       "    .dataframe thead th {\n",
       "        text-align: right;\n",
       "    }\n",
       "</style>\n",
       "<table border=\"1\" class=\"dataframe\">\n",
       "  <thead>\n",
       "    <tr style=\"text-align: right;\">\n",
       "      <th></th>\n",
       "      <th>State_name</th>\n",
       "      <th>Sector</th>\n",
       "      <th>Sex</th>\n",
       "      <th>Age</th>\n",
       "      <th>Marital_Status</th>\n",
       "      <th>Year_Edu</th>\n",
       "      <th>LFPR</th>\n",
       "    </tr>\n",
       "  </thead>\n",
       "  <tbody>\n",
       "    <tr>\n",
       "      <th>0</th>\n",
       "      <td>Kerala</td>\n",
       "      <td>0</td>\n",
       "      <td>0</td>\n",
       "      <td>66</td>\n",
       "      <td>1</td>\n",
       "      <td>20</td>\n",
       "      <td>1</td>\n",
       "    </tr>\n",
       "    <tr>\n",
       "      <th>1</th>\n",
       "      <td>Kerala</td>\n",
       "      <td>0</td>\n",
       "      <td>1</td>\n",
       "      <td>62</td>\n",
       "      <td>1</td>\n",
       "      <td>15</td>\n",
       "      <td>0</td>\n",
       "    </tr>\n",
       "    <tr>\n",
       "      <th>2</th>\n",
       "      <td>Kerala</td>\n",
       "      <td>0</td>\n",
       "      <td>0</td>\n",
       "      <td>36</td>\n",
       "      <td>1</td>\n",
       "      <td>10</td>\n",
       "      <td>1</td>\n",
       "    </tr>\n",
       "    <tr>\n",
       "      <th>3</th>\n",
       "      <td>Kerala</td>\n",
       "      <td>0</td>\n",
       "      <td>1</td>\n",
       "      <td>33</td>\n",
       "      <td>1</td>\n",
       "      <td>12</td>\n",
       "      <td>0</td>\n",
       "    </tr>\n",
       "    <tr>\n",
       "      <th>4</th>\n",
       "      <td>Kerala</td>\n",
       "      <td>0</td>\n",
       "      <td>0</td>\n",
       "      <td>1</td>\n",
       "      <td>0</td>\n",
       "      <td>0</td>\n",
       "      <td>0</td>\n",
       "    </tr>\n",
       "    <tr>\n",
       "      <th>...</th>\n",
       "      <td>...</td>\n",
       "      <td>...</td>\n",
       "      <td>...</td>\n",
       "      <td>...</td>\n",
       "      <td>...</td>\n",
       "      <td>...</td>\n",
       "      <td>...</td>\n",
       "    </tr>\n",
       "    <tr>\n",
       "      <th>14023</th>\n",
       "      <td>Kerala</td>\n",
       "      <td>1</td>\n",
       "      <td>1</td>\n",
       "      <td>71</td>\n",
       "      <td>1</td>\n",
       "      <td>15</td>\n",
       "      <td>1</td>\n",
       "    </tr>\n",
       "    <tr>\n",
       "      <th>14024</th>\n",
       "      <td>Kerala</td>\n",
       "      <td>1</td>\n",
       "      <td>0</td>\n",
       "      <td>40</td>\n",
       "      <td>0</td>\n",
       "      <td>10</td>\n",
       "      <td>1</td>\n",
       "    </tr>\n",
       "    <tr>\n",
       "      <th>14025</th>\n",
       "      <td>Kerala</td>\n",
       "      <td>1</td>\n",
       "      <td>0</td>\n",
       "      <td>16</td>\n",
       "      <td>0</td>\n",
       "      <td>10</td>\n",
       "      <td>0</td>\n",
       "    </tr>\n",
       "    <tr>\n",
       "      <th>14026</th>\n",
       "      <td>Kerala</td>\n",
       "      <td>1</td>\n",
       "      <td>1</td>\n",
       "      <td>14</td>\n",
       "      <td>0</td>\n",
       "      <td>9</td>\n",
       "      <td>0</td>\n",
       "    </tr>\n",
       "    <tr>\n",
       "      <th>14027</th>\n",
       "      <td>Kerala</td>\n",
       "      <td>1</td>\n",
       "      <td>0</td>\n",
       "      <td>74</td>\n",
       "      <td>1</td>\n",
       "      <td>10</td>\n",
       "      <td>1</td>\n",
       "    </tr>\n",
       "  </tbody>\n",
       "</table>\n",
       "<p>14028 rows × 7 columns</p>\n",
       "</div>"
      ],
      "text/plain": [
       "      State_name  Sector  Sex  Age  Marital_Status  Year_Edu  LFPR\n",
       "0         Kerala       0    0   66               1        20     1\n",
       "1         Kerala       0    1   62               1        15     0\n",
       "2         Kerala       0    0   36               1        10     1\n",
       "3         Kerala       0    1   33               1        12     0\n",
       "4         Kerala       0    0    1               0         0     0\n",
       "...          ...     ...  ...  ...             ...       ...   ...\n",
       "14023     Kerala       1    1   71               1        15     1\n",
       "14024     Kerala       1    0   40               0        10     1\n",
       "14025     Kerala       1    0   16               0        10     0\n",
       "14026     Kerala       1    1   14               0         9     0\n",
       "14027     Kerala       1    0   74               1        10     1\n",
       "\n",
       "[14028 rows x 7 columns]"
      ]
     },
     "execution_count": 25,
     "metadata": {},
     "output_type": "execute_result"
    }
   ],
   "source": [
    "kerala.reset_index(drop=True, inplace=True)\n",
    "kerala"
   ]
  },
  {
   "cell_type": "code",
   "execution_count": 26,
   "id": "aa3b285b-422f-45db-8997-7c4cb7efe80d",
   "metadata": {},
   "outputs": [],
   "source": [
    "kerala.to_csv(r'C:\\Users\\Rushikesh\\Desktop\\LFPR\\kerala.csv')"
   ]
  }
 ],
 "metadata": {
  "kernelspec": {
   "display_name": "Python 3 (ipykernel)",
   "language": "python",
   "name": "python3"
  },
  "language_info": {
   "codemirror_mode": {
    "name": "ipython",
    "version": 3
   },
   "file_extension": ".py",
   "mimetype": "text/x-python",
   "name": "python",
   "nbconvert_exporter": "python",
   "pygments_lexer": "ipython3",
   "version": "3.12.4"
  }
 },
 "nbformat": 4,
 "nbformat_minor": 5
}
